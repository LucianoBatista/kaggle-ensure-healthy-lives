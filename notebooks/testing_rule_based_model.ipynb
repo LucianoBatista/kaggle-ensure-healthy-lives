{
 "cells": [
  {
   "cell_type": "code",
   "execution_count": 1,
   "metadata": {},
   "outputs": [],
   "source": [
    "import json\n",
    "import hiplot as hip\n",
    "import pandas as pd\n",
    "from src.pipelines import Pipeline\n",
    "\n",
    "# load data\n",
    "train_data = pd.read_csv(\"data/train.csv\", low_memory=False)\n",
    "\n"
   ]
  },
  {
   "cell_type": "code",
   "execution_count": 3,
   "metadata": {},
   "outputs": [],
   "source": [
    "from sklearn.model_selection import train_test_split\n",
    "\n",
    "X_train, X_test, y_train, y_test = train_test_split(\n",
    "    train_data.drop(\"CLASSI_FIN\", axis=1),\n",
    "    train_data[\"CLASSI_FIN\"],\n",
    "    test_size=0.1,\n",
    "    random_state=42,\n",
    "    stratify=train_data[\"CLASSI_FIN\"],\n",
    ")\n"
   ]
  },
  {
   "cell_type": "code",
   "execution_count": 4,
   "metadata": {},
   "outputs": [],
   "source": [
    "X_test[\"CLASSI_FIN\"] = y_test\n",
    "\n",
    "samples = [X_test, X_test.sample(1)]\n",
    "json_data = pd.concat(samples).sort_values(\"CLASSI_FIN\", ascending=True).to_json(orient=\"records\")"
   ]
  },
  {
   "cell_type": "code",
   "execution_count": null,
   "metadata": {},
   "outputs": [],
   "source": [
    "hip.Experiment.from_iterable(json.loads(json_data)).display()"
   ]
  },
  {
   "cell_type": "code",
   "execution_count": null,
   "metadata": {},
   "outputs": [],
   "source": []
  }
 ],
 "metadata": {
  "kernelspec": {
   "display_name": "ensure-healthy-lives-P5sLq0px",
   "language": "python",
   "name": "python3"
  },
  "language_info": {
   "codemirror_mode": {
    "name": "ipython",
    "version": 3
   },
   "file_extension": ".py",
   "mimetype": "text/x-python",
   "name": "python",
   "nbconvert_exporter": "python",
   "pygments_lexer": "ipython3",
   "version": "3.10.7"
  },
  "orig_nbformat": 4,
  "vscode": {
   "interpreter": {
    "hash": "90425837bc1d88bb0fee8f4575cb4fbd7023c54320e57da4ee60bc7050d08fc2"
   }
  }
 },
 "nbformat": 4,
 "nbformat_minor": 2
}
