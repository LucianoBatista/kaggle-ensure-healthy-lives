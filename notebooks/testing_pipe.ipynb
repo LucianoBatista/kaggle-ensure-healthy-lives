{
 "cells": [
  {
   "cell_type": "code",
   "execution_count": 1,
   "metadata": {},
   "outputs": [],
   "source": [
    "%load_ext autoreload\n",
    "%autoreload 2\n",
    "from src.pipeline_real import Pipes\n",
    "from pathlib import Path"
   ]
  },
  {
   "cell_type": "code",
   "execution_count": 6,
   "metadata": {},
   "outputs": [
    {
     "name": "stdout",
     "output_type": "stream",
     "text": [
      "(1170882, 58)\n",
      "(130098, 58)\n",
      "              precision    recall  f1-score   support\n",
      "\n",
      "           1     0.4326    0.4024    0.4170      1563\n",
      "           2     0.4735    0.6062    0.5317      3144\n",
      "           3     0.5154    0.3103    0.3874       593\n",
      "           4     0.6994    0.6567    0.6774     38041\n",
      "           5     0.8721    0.8901    0.8810     86757\n",
      "\n",
      "    accuracy                         0.8065    130098\n",
      "   macro avg     0.5986    0.5731    0.5789    130098\n",
      "weighted avg     0.8051    0.8065    0.8052    130098\n",
      "\n"
     ]
    },
    {
     "data": {
      "text/html": [
       "<style>#sk-container-id-2 {color: black;background-color: white;}#sk-container-id-2 pre{padding: 0;}#sk-container-id-2 div.sk-toggleable {background-color: white;}#sk-container-id-2 label.sk-toggleable__label {cursor: pointer;display: block;width: 100%;margin-bottom: 0;padding: 0.3em;box-sizing: border-box;text-align: center;}#sk-container-id-2 label.sk-toggleable__label-arrow:before {content: \"▸\";float: left;margin-right: 0.25em;color: #696969;}#sk-container-id-2 label.sk-toggleable__label-arrow:hover:before {color: black;}#sk-container-id-2 div.sk-estimator:hover label.sk-toggleable__label-arrow:before {color: black;}#sk-container-id-2 div.sk-toggleable__content {max-height: 0;max-width: 0;overflow: hidden;text-align: left;background-color: #f0f8ff;}#sk-container-id-2 div.sk-toggleable__content pre {margin: 0.2em;color: black;border-radius: 0.25em;background-color: #f0f8ff;}#sk-container-id-2 input.sk-toggleable__control:checked~div.sk-toggleable__content {max-height: 200px;max-width: 100%;overflow: auto;}#sk-container-id-2 input.sk-toggleable__control:checked~label.sk-toggleable__label-arrow:before {content: \"▾\";}#sk-container-id-2 div.sk-estimator input.sk-toggleable__control:checked~label.sk-toggleable__label {background-color: #d4ebff;}#sk-container-id-2 div.sk-label input.sk-toggleable__control:checked~label.sk-toggleable__label {background-color: #d4ebff;}#sk-container-id-2 input.sk-hidden--visually {border: 0;clip: rect(1px 1px 1px 1px);clip: rect(1px, 1px, 1px, 1px);height: 1px;margin: -1px;overflow: hidden;padding: 0;position: absolute;width: 1px;}#sk-container-id-2 div.sk-estimator {font-family: monospace;background-color: #f0f8ff;border: 1px dotted black;border-radius: 0.25em;box-sizing: border-box;margin-bottom: 0.5em;}#sk-container-id-2 div.sk-estimator:hover {background-color: #d4ebff;}#sk-container-id-2 div.sk-parallel-item::after {content: \"\";width: 100%;border-bottom: 1px solid gray;flex-grow: 1;}#sk-container-id-2 div.sk-label:hover label.sk-toggleable__label {background-color: #d4ebff;}#sk-container-id-2 div.sk-serial::before {content: \"\";position: absolute;border-left: 1px solid gray;box-sizing: border-box;top: 0;bottom: 0;left: 50%;z-index: 0;}#sk-container-id-2 div.sk-serial {display: flex;flex-direction: column;align-items: center;background-color: white;padding-right: 0.2em;padding-left: 0.2em;position: relative;}#sk-container-id-2 div.sk-item {position: relative;z-index: 1;}#sk-container-id-2 div.sk-parallel {display: flex;align-items: stretch;justify-content: center;background-color: white;position: relative;}#sk-container-id-2 div.sk-item::before, #sk-container-id-2 div.sk-parallel-item::before {content: \"\";position: absolute;border-left: 1px solid gray;box-sizing: border-box;top: 0;bottom: 0;left: 50%;z-index: -1;}#sk-container-id-2 div.sk-parallel-item {display: flex;flex-direction: column;z-index: 1;position: relative;background-color: white;}#sk-container-id-2 div.sk-parallel-item:first-child::after {align-self: flex-end;width: 50%;}#sk-container-id-2 div.sk-parallel-item:last-child::after {align-self: flex-start;width: 50%;}#sk-container-id-2 div.sk-parallel-item:only-child::after {width: 0;}#sk-container-id-2 div.sk-dashed-wrapped {border: 1px dashed gray;margin: 0 0.4em 0.5em 0.4em;box-sizing: border-box;padding-bottom: 0.4em;background-color: white;}#sk-container-id-2 div.sk-label label {font-family: monospace;font-weight: bold;display: inline-block;line-height: 1.2em;}#sk-container-id-2 div.sk-label-container {text-align: center;}#sk-container-id-2 div.sk-container {/* jupyter's `normalize.less` sets `[hidden] { display: none; }` but bootstrap.min.css set `[hidden] { display: none !important; }` so we also need the `!important` here to be able to override the default hidden behavior on the sphinx rendered scikit-learn.org. See: https://github.com/scikit-learn/scikit-learn/issues/21755 */display: inline-block !important;position: relative;}#sk-container-id-2 div.sk-text-repr-fallback {display: none;}</style><div id=\"sk-container-id-2\" class=\"sk-top-container\"><div class=\"sk-text-repr-fallback\"><pre>Pipeline(steps=[(&#x27;preprocessor&#x27;,\n",
       "                 ColumnTransformer(transformers=[(&#x27;numerical&#x27;,\n",
       "                                                  Pipeline(steps=[(&#x27;imputer&#x27;,\n",
       "                                                                   SimpleImputer(strategy=&#x27;median&#x27;)),\n",
       "                                                                  (&#x27;scaler&#x27;,\n",
       "                                                                   StandardScaler())]),\n",
       "                                                  [&#x27;SEM_NOT&#x27;, &#x27;SEM_PRI&#x27;,\n",
       "                                                   &#x27;NU_IDADE_N&#x27;]),\n",
       "                                                 (&#x27;categorical&#x27;,\n",
       "                                                  Pipeline(steps=[(&#x27;imputer&#x27;,\n",
       "                                                                   SimpleImputer(strategy=&#x27;most_frequent&#x27;)),\n",
       "                                                                  (&#x27;encoder&#x27;,\n",
       "                                                                   OrdinalEncoder(handle_unknown=&#x27;use_encoded_value&#x27;,\n",
       "                                                                                  un...\n",
       "                 VotingClassifier(estimators=[(&#x27;HistGradientBoostingClassifier&#x27;,\n",
       "                                               HistGradientBoostingClassifier(class_weight={0: 2,\n",
       "                                                                                            1: 2,\n",
       "                                                                                            2: 2,\n",
       "                                                                                            3: 1,\n",
       "                                                                                            4: 1},\n",
       "                                                                              l2_regularization=1.5,\n",
       "                                                                              max_depth=100,\n",
       "                                                                              max_iter=2000,\n",
       "                                                                              random_state=42,\n",
       "                                                                              scoring=&#x27;f1_macro&#x27;)),\n",
       "                                              (&#x27;LGBMClassifier&#x27;,\n",
       "                                               LGBMClassifier(class_weight={0: 2,\n",
       "                                                                            1: 2,\n",
       "                                                                            2: 2,\n",
       "                                                                            3: 1,\n",
       "                                                                            4: 1},\n",
       "                                                              max_depth=100,\n",
       "                                                              n_estimators=2000,\n",
       "                                                              num_leaves=255,\n",
       "                                                              random_state=42,\n",
       "                                                              reg_alpha=1.5,\n",
       "                                                              reg_lambda=1.5))]))])</pre><b>In a Jupyter environment, please rerun this cell to show the HTML representation or trust the notebook. <br />On GitHub, the HTML representation is unable to render, please try loading this page with nbviewer.org.</b></div><div class=\"sk-container\" hidden><div class=\"sk-item sk-dashed-wrapped\"><div class=\"sk-label-container\"><div class=\"sk-label sk-toggleable\"><input class=\"sk-toggleable__control sk-hidden--visually\" id=\"sk-estimator-id-13\" type=\"checkbox\" ><label for=\"sk-estimator-id-13\" class=\"sk-toggleable__label sk-toggleable__label-arrow\">Pipeline</label><div class=\"sk-toggleable__content\"><pre>Pipeline(steps=[(&#x27;preprocessor&#x27;,\n",
       "                 ColumnTransformer(transformers=[(&#x27;numerical&#x27;,\n",
       "                                                  Pipeline(steps=[(&#x27;imputer&#x27;,\n",
       "                                                                   SimpleImputer(strategy=&#x27;median&#x27;)),\n",
       "                                                                  (&#x27;scaler&#x27;,\n",
       "                                                                   StandardScaler())]),\n",
       "                                                  [&#x27;SEM_NOT&#x27;, &#x27;SEM_PRI&#x27;,\n",
       "                                                   &#x27;NU_IDADE_N&#x27;]),\n",
       "                                                 (&#x27;categorical&#x27;,\n",
       "                                                  Pipeline(steps=[(&#x27;imputer&#x27;,\n",
       "                                                                   SimpleImputer(strategy=&#x27;most_frequent&#x27;)),\n",
       "                                                                  (&#x27;encoder&#x27;,\n",
       "                                                                   OrdinalEncoder(handle_unknown=&#x27;use_encoded_value&#x27;,\n",
       "                                                                                  un...\n",
       "                 VotingClassifier(estimators=[(&#x27;HistGradientBoostingClassifier&#x27;,\n",
       "                                               HistGradientBoostingClassifier(class_weight={0: 2,\n",
       "                                                                                            1: 2,\n",
       "                                                                                            2: 2,\n",
       "                                                                                            3: 1,\n",
       "                                                                                            4: 1},\n",
       "                                                                              l2_regularization=1.5,\n",
       "                                                                              max_depth=100,\n",
       "                                                                              max_iter=2000,\n",
       "                                                                              random_state=42,\n",
       "                                                                              scoring=&#x27;f1_macro&#x27;)),\n",
       "                                              (&#x27;LGBMClassifier&#x27;,\n",
       "                                               LGBMClassifier(class_weight={0: 2,\n",
       "                                                                            1: 2,\n",
       "                                                                            2: 2,\n",
       "                                                                            3: 1,\n",
       "                                                                            4: 1},\n",
       "                                                              max_depth=100,\n",
       "                                                              n_estimators=2000,\n",
       "                                                              num_leaves=255,\n",
       "                                                              random_state=42,\n",
       "                                                              reg_alpha=1.5,\n",
       "                                                              reg_lambda=1.5))]))])</pre></div></div></div><div class=\"sk-serial\"><div class=\"sk-item sk-dashed-wrapped\"><div class=\"sk-label-container\"><div class=\"sk-label sk-toggleable\"><input class=\"sk-toggleable__control sk-hidden--visually\" id=\"sk-estimator-id-14\" type=\"checkbox\" ><label for=\"sk-estimator-id-14\" class=\"sk-toggleable__label sk-toggleable__label-arrow\">preprocessor: ColumnTransformer</label><div class=\"sk-toggleable__content\"><pre>ColumnTransformer(transformers=[(&#x27;numerical&#x27;,\n",
       "                                 Pipeline(steps=[(&#x27;imputer&#x27;,\n",
       "                                                  SimpleImputer(strategy=&#x27;median&#x27;)),\n",
       "                                                 (&#x27;scaler&#x27;, StandardScaler())]),\n",
       "                                 [&#x27;SEM_NOT&#x27;, &#x27;SEM_PRI&#x27;, &#x27;NU_IDADE_N&#x27;]),\n",
       "                                (&#x27;categorical&#x27;,\n",
       "                                 Pipeline(steps=[(&#x27;imputer&#x27;,\n",
       "                                                  SimpleImputer(strategy=&#x27;most_frequent&#x27;)),\n",
       "                                                 (&#x27;encoder&#x27;,\n",
       "                                                  OrdinalEncoder(handle_unknown=&#x27;use_encoded_value&#x27;,\n",
       "                                                                 unknown_value=-1))]),\n",
       "                                 [&#x27;CO_MUN_NOT&#x27;, &#x27;CO_REGIONA&#x27;, &#x27;SG_UF_NOT&#x27;,\n",
       "                                  &#x27;CS_SEXO&#x27;, &#x27;COD_IDADE&#x27;, &#x27;CS_GESTANT&#x27;,\n",
       "                                  &#x27;CS_RACA&#x27;, &#x27;CS_ESCOL_N&#x27;, &#x27;SG_UF&#x27;, &#x27;CS_ZONA&#x27;,\n",
       "                                  &#x27;SURTO_SG&#x27;, &#x27;NOSOCOMIAL&#x27;, &#x27;AVE_SUINO&#x27;,\n",
       "                                  &#x27;FEBRE&#x27;, &#x27;TOSSE&#x27;, &#x27;GARGANTA&#x27;, &#x27;DISPNEIA&#x27;,\n",
       "                                  &#x27;DESC_RESP&#x27;, &#x27;SATURACAO&#x27;, &#x27;DIARREIA&#x27;,\n",
       "                                  &#x27;VOMITO&#x27;, &#x27;OUTRO_SIN&#x27;, &#x27;PUERPERA&#x27;,\n",
       "                                  &#x27;FATOR_RISC&#x27;, &#x27;CARDIOPATI&#x27;, &#x27;HEMATOLOGI&#x27;,\n",
       "                                  &#x27;SIND_DOWN&#x27;, &#x27;HEPATICA&#x27;, &#x27;ASMA&#x27;, &#x27;DIABETES&#x27;, ...])])</pre></div></div></div><div class=\"sk-parallel\"><div class=\"sk-parallel-item\"><div class=\"sk-item\"><div class=\"sk-label-container\"><div class=\"sk-label sk-toggleable\"><input class=\"sk-toggleable__control sk-hidden--visually\" id=\"sk-estimator-id-15\" type=\"checkbox\" ><label for=\"sk-estimator-id-15\" class=\"sk-toggleable__label sk-toggleable__label-arrow\">numerical</label><div class=\"sk-toggleable__content\"><pre>[&#x27;SEM_NOT&#x27;, &#x27;SEM_PRI&#x27;, &#x27;NU_IDADE_N&#x27;]</pre></div></div></div><div class=\"sk-serial\"><div class=\"sk-item\"><div class=\"sk-serial\"><div class=\"sk-item\"><div class=\"sk-estimator sk-toggleable\"><input class=\"sk-toggleable__control sk-hidden--visually\" id=\"sk-estimator-id-16\" type=\"checkbox\" ><label for=\"sk-estimator-id-16\" class=\"sk-toggleable__label sk-toggleable__label-arrow\">SimpleImputer</label><div class=\"sk-toggleable__content\"><pre>SimpleImputer(strategy=&#x27;median&#x27;)</pre></div></div></div><div class=\"sk-item\"><div class=\"sk-estimator sk-toggleable\"><input class=\"sk-toggleable__control sk-hidden--visually\" id=\"sk-estimator-id-17\" type=\"checkbox\" ><label for=\"sk-estimator-id-17\" class=\"sk-toggleable__label sk-toggleable__label-arrow\">StandardScaler</label><div class=\"sk-toggleable__content\"><pre>StandardScaler()</pre></div></div></div></div></div></div></div></div><div class=\"sk-parallel-item\"><div class=\"sk-item\"><div class=\"sk-label-container\"><div class=\"sk-label sk-toggleable\"><input class=\"sk-toggleable__control sk-hidden--visually\" id=\"sk-estimator-id-18\" type=\"checkbox\" ><label for=\"sk-estimator-id-18\" class=\"sk-toggleable__label sk-toggleable__label-arrow\">categorical</label><div class=\"sk-toggleable__content\"><pre>[&#x27;CO_MUN_NOT&#x27;, &#x27;CO_REGIONA&#x27;, &#x27;SG_UF_NOT&#x27;, &#x27;CS_SEXO&#x27;, &#x27;COD_IDADE&#x27;, &#x27;CS_GESTANT&#x27;, &#x27;CS_RACA&#x27;, &#x27;CS_ESCOL_N&#x27;, &#x27;SG_UF&#x27;, &#x27;CS_ZONA&#x27;, &#x27;SURTO_SG&#x27;, &#x27;NOSOCOMIAL&#x27;, &#x27;AVE_SUINO&#x27;, &#x27;FEBRE&#x27;, &#x27;TOSSE&#x27;, &#x27;GARGANTA&#x27;, &#x27;DISPNEIA&#x27;, &#x27;DESC_RESP&#x27;, &#x27;SATURACAO&#x27;, &#x27;DIARREIA&#x27;, &#x27;VOMITO&#x27;, &#x27;OUTRO_SIN&#x27;, &#x27;PUERPERA&#x27;, &#x27;FATOR_RISC&#x27;, &#x27;CARDIOPATI&#x27;, &#x27;HEMATOLOGI&#x27;, &#x27;SIND_DOWN&#x27;, &#x27;HEPATICA&#x27;, &#x27;ASMA&#x27;, &#x27;DIABETES&#x27;, &#x27;NEUROLOGIC&#x27;, &#x27;PNEUMOPATI&#x27;, &#x27;IMUNODEPRE&#x27;, &#x27;RENAL&#x27;, &#x27;OBESIDADE&#x27;, &#x27;OUT_MORBI&#x27;, &#x27;VACINA&#x27;, &#x27;ANTIVIRAL&#x27;, &#x27;HOSPITAL&#x27;, &#x27;UTI&#x27;, &#x27;SUPORT_VEN&#x27;, &#x27;RAIOX_RES&#x27;, &#x27;RAIOX_OUT&#x27;, &#x27;AMOSTRA&#x27;, &#x27;TP_AMOSTRA&#x27;, &#x27;HISTO_VGM&#x27;, &#x27;DOR_ABD&#x27;, &#x27;FADIGA&#x27;, &#x27;PERD_OLFT&#x27;, &#x27;PERD_PALA&#x27;, &#x27;TOMO_RES&#x27;, &#x27;VACINA_COV&#x27;, &#x27;DOSE_1_COV&#x27;, &#x27;DOSE_2_COV&#x27;, &#x27;FNT_IN_COV&#x27;]</pre></div></div></div><div class=\"sk-serial\"><div class=\"sk-item\"><div class=\"sk-serial\"><div class=\"sk-item\"><div class=\"sk-estimator sk-toggleable\"><input class=\"sk-toggleable__control sk-hidden--visually\" id=\"sk-estimator-id-19\" type=\"checkbox\" ><label for=\"sk-estimator-id-19\" class=\"sk-toggleable__label sk-toggleable__label-arrow\">SimpleImputer</label><div class=\"sk-toggleable__content\"><pre>SimpleImputer(strategy=&#x27;most_frequent&#x27;)</pre></div></div></div><div class=\"sk-item\"><div class=\"sk-estimator sk-toggleable\"><input class=\"sk-toggleable__control sk-hidden--visually\" id=\"sk-estimator-id-20\" type=\"checkbox\" ><label for=\"sk-estimator-id-20\" class=\"sk-toggleable__label sk-toggleable__label-arrow\">OrdinalEncoder</label><div class=\"sk-toggleable__content\"><pre>OrdinalEncoder(handle_unknown=&#x27;use_encoded_value&#x27;, unknown_value=-1)</pre></div></div></div></div></div></div></div></div></div></div><div class=\"sk-item sk-dashed-wrapped\"><div class=\"sk-label-container\"><div class=\"sk-label sk-toggleable\"><input class=\"sk-toggleable__control sk-hidden--visually\" id=\"sk-estimator-id-21\" type=\"checkbox\" ><label for=\"sk-estimator-id-21\" class=\"sk-toggleable__label sk-toggleable__label-arrow\">classifier: VotingClassifier</label><div class=\"sk-toggleable__content\"><pre>VotingClassifier(estimators=[(&#x27;HistGradientBoostingClassifier&#x27;,\n",
       "                              HistGradientBoostingClassifier(class_weight={0: 2,\n",
       "                                                                           1: 2,\n",
       "                                                                           2: 2,\n",
       "                                                                           3: 1,\n",
       "                                                                           4: 1},\n",
       "                                                             l2_regularization=1.5,\n",
       "                                                             max_depth=100,\n",
       "                                                             max_iter=2000,\n",
       "                                                             random_state=42,\n",
       "                                                             scoring=&#x27;f1_macro&#x27;)),\n",
       "                             (&#x27;LGBMClassifier&#x27;,\n",
       "                              LGBMClassifier(class_weight={0: 2, 1: 2, 2: 2,\n",
       "                                                           3: 1, 4: 1},\n",
       "                                             max_depth=100, n_estimators=2000,\n",
       "                                             num_leaves=255, random_state=42,\n",
       "                                             reg_alpha=1.5, reg_lambda=1.5))])</pre></div></div></div><div class=\"sk-parallel\"><div class=\"sk-parallel-item\"><div class=\"sk-item\"><div class=\"sk-label-container\"><div class=\"sk-label sk-toggleable\"><label>HistGradientBoostingClassifier</label></div></div><div class=\"sk-serial\"><div class=\"sk-item\"><div class=\"sk-estimator sk-toggleable\"><input class=\"sk-toggleable__control sk-hidden--visually\" id=\"sk-estimator-id-22\" type=\"checkbox\" ><label for=\"sk-estimator-id-22\" class=\"sk-toggleable__label sk-toggleable__label-arrow\">HistGradientBoostingClassifier</label><div class=\"sk-toggleable__content\"><pre>HistGradientBoostingClassifier(class_weight={0: 2, 1: 2, 2: 2, 3: 1, 4: 1},\n",
       "                               l2_regularization=1.5, max_depth=100,\n",
       "                               max_iter=2000, random_state=42,\n",
       "                               scoring=&#x27;f1_macro&#x27;)</pre></div></div></div></div></div></div><div class=\"sk-parallel-item\"><div class=\"sk-item\"><div class=\"sk-label-container\"><div class=\"sk-label sk-toggleable\"><label>LGBMClassifier</label></div></div><div class=\"sk-serial\"><div class=\"sk-item\"><div class=\"sk-estimator sk-toggleable\"><input class=\"sk-toggleable__control sk-hidden--visually\" id=\"sk-estimator-id-23\" type=\"checkbox\" ><label for=\"sk-estimator-id-23\" class=\"sk-toggleable__label sk-toggleable__label-arrow\">LGBMClassifier</label><div class=\"sk-toggleable__content\"><pre>LGBMClassifier(class_weight={0: 2, 1: 2, 2: 2, 3: 1, 4: 1}, max_depth=100,\n",
       "               n_estimators=2000, num_leaves=255, random_state=42,\n",
       "               reg_alpha=1.5, reg_lambda=1.5)</pre></div></div></div></div></div></div></div></div></div></div></div></div>"
      ],
      "text/plain": [
       "Pipeline(steps=[('preprocessor',\n",
       "                 ColumnTransformer(transformers=[('numerical',\n",
       "                                                  Pipeline(steps=[('imputer',\n",
       "                                                                   SimpleImputer(strategy='median')),\n",
       "                                                                  ('scaler',\n",
       "                                                                   StandardScaler())]),\n",
       "                                                  ['SEM_NOT', 'SEM_PRI',\n",
       "                                                   'NU_IDADE_N']),\n",
       "                                                 ('categorical',\n",
       "                                                  Pipeline(steps=[('imputer',\n",
       "                                                                   SimpleImputer(strategy='most_frequent')),\n",
       "                                                                  ('encoder',\n",
       "                                                                   OrdinalEncoder(handle_unknown='use_encoded_value',\n",
       "                                                                                  un...\n",
       "                 VotingClassifier(estimators=[('HistGradientBoostingClassifier',\n",
       "                                               HistGradientBoostingClassifier(class_weight={0: 2,\n",
       "                                                                                            1: 2,\n",
       "                                                                                            2: 2,\n",
       "                                                                                            3: 1,\n",
       "                                                                                            4: 1},\n",
       "                                                                              l2_regularization=1.5,\n",
       "                                                                              max_depth=100,\n",
       "                                                                              max_iter=2000,\n",
       "                                                                              random_state=42,\n",
       "                                                                              scoring='f1_macro')),\n",
       "                                              ('LGBMClassifier',\n",
       "                                               LGBMClassifier(class_weight={0: 2,\n",
       "                                                                            1: 2,\n",
       "                                                                            2: 2,\n",
       "                                                                            3: 1,\n",
       "                                                                            4: 1},\n",
       "                                                              max_depth=100,\n",
       "                                                              n_estimators=2000,\n",
       "                                                              num_leaves=255,\n",
       "                                                              random_state=42,\n",
       "                                                              reg_alpha=1.5,\n",
       "                                                              reg_lambda=1.5))]))])"
      ]
     },
     "execution_count": 6,
     "metadata": {},
     "output_type": "execute_result"
    }
   ],
   "source": [
    "pipes = Pipes(\n",
    "    train_data=Path(\"data/train.csv\"),\n",
    "    test_data=Path(\"data/test.csv\"),\n",
    "    params=Path(\"params.yaml\"),\n",
    ")\n",
    "# pipes.adjust_OBES_IMC()\n",
    "pipe = pipes.create_pipeline()\n",
    "pipes.fit(pipe)\n"
   ]
  },
  {
   "cell_type": "code",
   "execution_count": 7,
   "metadata": {},
   "outputs": [
    {
     "name": "stdout",
     "output_type": "stream",
     "text": [
      "Done!\n",
      "Done!\n"
     ]
    }
   ],
   "source": [
    "pipes.create_submission_file(pipe, \"data/submission_v8.csv\")\n"
   ]
  },
  {
   "cell_type": "code",
   "execution_count": null,
   "metadata": {},
   "outputs": [],
   "source": [
    "\n"
   ]
  }
 ],
 "metadata": {
  "kernelspec": {
   "display_name": "ensure-healthy-lives-P5sLq0px",
   "language": "python",
   "name": "python3"
  },
  "language_info": {
   "codemirror_mode": {
    "name": "ipython",
    "version": 3
   },
   "file_extension": ".py",
   "mimetype": "text/x-python",
   "name": "python",
   "nbconvert_exporter": "python",
   "pygments_lexer": "ipython3",
   "version": "3.10.7"
  },
  "orig_nbformat": 4,
  "vscode": {
   "interpreter": {
    "hash": "90425837bc1d88bb0fee8f4575cb4fbd7023c54320e57da4ee60bc7050d08fc2"
   }
  }
 },
 "nbformat": 4,
 "nbformat_minor": 2
}
