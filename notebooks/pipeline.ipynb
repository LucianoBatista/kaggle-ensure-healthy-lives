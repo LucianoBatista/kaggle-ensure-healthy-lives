{
 "cells": [
  {
   "cell_type": "code",
   "execution_count": 2,
   "metadata": {},
   "outputs": [],
   "source": [
    "%load_ext autoreload\n",
    "%autoreload 2\n",
    "from src.pipelines import Pipeline"
   ]
  },
  {
   "cell_type": "code",
   "execution_count": 3,
   "metadata": {},
   "outputs": [
    {
     "name": "stdout",
     "output_type": "stream",
     "text": [
      "              precision    recall  f1-score   support\n",
      "\n",
      "           1       0.31      0.07      0.11      3126\n",
      "           2       0.22      0.26      0.24      6287\n",
      "           3       0.19      0.01      0.01      1187\n",
      "           4       0.55      0.57      0.56     76082\n",
      "           5       0.83      0.83      0.83    173514\n",
      "\n",
      "    accuracy                           0.73    260196\n",
      "   macro avg       0.42      0.35      0.35    260196\n",
      "weighted avg       0.73      0.73      0.73    260196\n",
      "\n"
     ]
    }
   ],
   "source": [
    "pipe = Pipeline(\n",
    "    train_data=\"data/train.csv\",\n",
    "    test_data=\"data/test.csv\",\n",
    "    params=\"params.yaml\",\n",
    ")\n",
    "x_train, x_test, y_train, y_test = pipe.create_train_test_split()\n",
    "x_train, x_test = pipe.impute_missing_values(x_train, x_test)\n",
    "x_train, x_test = pipe.transform_to_numeric(x_train, x_test)\n",
    "# x_train, x_test = pipe.ohe_categorical_columns(x_train, x_test)\n",
    "clf = pipe.train_histogram_gradient_boosting(x_train, y_train)\n",
    "# clf = pipe.train_rf(x_train, y_train)\n",
    "pipe.evaluate_model(clf, x_test, y_test)\n",
    "pipe.generate_submission_file(clf)\n"
   ]
  },
  {
   "attachments": {},
   "cell_type": "markdown",
   "metadata": {},
   "source": [
    "## New pipeline to build\n"
   ]
  },
  {
   "attachments": {},
   "cell_type": "markdown",
   "metadata": {},
   "source": [
    "```mermaid\n",
    "graph LR;\n",
    "    A(Dados brutos) --> B(Identificar Tipos)\n",
    "    B --> C(Numéricos)\n",
    "    B --> D(Categóricos)\n",
    "    C --> E(Pipeline)\n",
    "    D --> E(Pipeline)\n",
    "    E --> F(Preprocessamento)\n",
    "    F --> G(Modelagem)\n",
    "```"
   ]
  },
  {
   "attachments": {},
   "cell_type": "markdown",
   "metadata": {},
   "source": [
    "O que preprocessar:\n",
    "- Variância da coluna muito próxima de zero\n",
    "- Ignorar colunas com mais de 40% de missings:\n",
    "    - Incrementalmente adicionando com mais missings: 50, 60, 70, 80\n",
    "- Preencher missing values com o básico: média para numérico, moda para categórico\n",
    "    - Método mais robusto é o que nós estamos utilizando para preencher com base na probabilidade de cada classe presente na coluna\n",
    "- "
   ]
  },
  {
   "cell_type": "code",
   "execution_count": null,
   "metadata": {},
   "outputs": [],
   "source": []
  }
 ],
 "metadata": {
  "kernelspec": {
   "display_name": "ensure-healthy-lives-P5sLq0px",
   "language": "python",
   "name": "python3"
  },
  "language_info": {
   "codemirror_mode": {
    "name": "ipython",
    "version": 3
   },
   "file_extension": ".py",
   "mimetype": "text/x-python",
   "name": "python",
   "nbconvert_exporter": "python",
   "pygments_lexer": "ipython3",
   "version": "3.10.7"
  },
  "orig_nbformat": 4,
  "vscode": {
   "interpreter": {
    "hash": "90425837bc1d88bb0fee8f4575cb4fbd7023c54320e57da4ee60bc7050d08fc2"
   }
  }
 },
 "nbformat": 4,
 "nbformat_minor": 2
}
